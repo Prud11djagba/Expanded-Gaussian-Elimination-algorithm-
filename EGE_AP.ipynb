{
  "cells": [
    {
      "cell_type": "markdown",
      "metadata": {
        "id": "bUndX87WCs_6"
      },
      "source": [
        "# The programm computes the smallest R-subgroup containing a giving  set of vectors by computing the  Expanded Gaussion Elimination on the set of vectors ${v_1,...,v_k}$."
      ]
    },
    {
      "cell_type": "markdown",
      "metadata": {
        "id": "ymkmv1YgCs_8"
      },
      "source": [
        "## It gives a basis of the R-subgroup containing a giving  set of vectors."
      ]
    },
    {
      "cell_type": "code",
      "execution_count": null,
      "metadata": {
        "id": "RC-5gQFFCs_8"
      },
      "outputs": [],
      "source": [
        "import numpy as np"
      ]
    },
    {
      "cell_type": "code",
      "execution_count": null,
      "metadata": {
        "id": "PxC38YN5Cs_9",
        "outputId": "0fd0fa29-3a57-48f2-8ca4-1cc9666df241"
      },
      "outputs": [
        {
          "data": {
            "text/plain": [
              "[0, 2, 1, 2*X, 2*X + 2, 2*X + 1, X, X + 2, X + 1]"
            ]
          },
          "execution_count": 6,
          "metadata": {},
          "output_type": "execute_result"
        }
      ],
      "source": [
        "GF9=GF(3**2, name='X', modulus=x^2 +x+2 )\n",
        "elements=list(GF9)\n",
        "reorder=[0,4,8,5,3,2,1,6,7]\n",
        "R=[elements[i] for i in reorder]\n",
        "R"
      ]
    },
    {
      "cell_type": "code",
      "execution_count": null,
      "metadata": {
        "id": "ktqQAM1wCs__"
      },
      "outputs": [],
      "source": [
        "Squares=[r**2 for r in R]\n",
        "Squares=list(set(Squares))\n",
        "def scmult (v,r):\n",
        "    n=len(v)\n",
        "    sq=np.isin(v,Squares)\n",
        "    output=np.repeat(R[0],n)\n",
        "    for i in range(n):\n",
        "        if sq[i]==True:\n",
        "            output[i]=v[i]*r\n",
        "        else:\n",
        "            output[i]=v[i]*r**3\n",
        "    return output"
      ]
    },
    {
      "cell_type": "code",
      "execution_count": null,
      "metadata": {
        "id": "-Bg3zJhLCs__"
      },
      "outputs": [],
      "source": []
    },
    {
      "cell_type": "code",
      "execution_count": null,
      "metadata": {
        "id": "6_1VMx8VCs__",
        "outputId": "16c24ece-115d-45d2-86d4-bd414fcd7e32"
      },
      "outputs": [
        {
          "data": {
            "text/plain": [
              "array([0, 2*X + 2, X + 1, 2*X + 1, 1, X, X + 2, 2*X, 2], dtype=object)"
            ]
          },
          "execution_count": 8,
          "metadata": {},
          "output_type": "execute_result"
        }
      ],
      "source": [
        "scmult([R[0],R[1],R[2],R[3],R[4],R[5],R[6], R[7],R[8]],R[8])"
      ]
    },
    {
      "cell_type": "code",
      "execution_count": null,
      "metadata": {
        "id": "QDIKK91ICtAB"
      },
      "outputs": [],
      "source": [
        "LR=[[a] for a in R]"
      ]
    },
    {
      "cell_type": "code",
      "execution_count": null,
      "metadata": {
        "scrolled": true,
        "id": "8k6XGVsWCtAB"
      },
      "outputs": [],
      "source": [
        "Squares=[r**2 for r in R]\n",
        "Squares=list(set(Squares))\n",
        "inverses=[R[0]]\n",
        "for i in range(1,len(R)):\n",
        "    for j in range(1,len(R)):\n",
        "        if scmult([R[i]],R[j])==1:\n",
        "            inverses.append(R[j])\n",
        "            break\n",
        "def inv(r):\n",
        "    if r==R[0]:\n",
        "        return 'Divide by Zero Error'\n",
        "    for i in range(len(R)):\n",
        "        if r==R[i]:\n",
        "            return inverses[i]"
      ]
    },
    {
      "cell_type": "code",
      "execution_count": null,
      "metadata": {
        "id": "skQ9frSKCtAB"
      },
      "outputs": [],
      "source": []
    },
    {
      "cell_type": "code",
      "execution_count": null,
      "metadata": {
        "id": "8BcSFiNQCtAB"
      },
      "outputs": [],
      "source": [
        "def AGE(basis):\n",
        "    alpha=R[3]\n",
        "    beta=R[1]\n",
        "    lambd=R[3]\n",
        "    matrix=copy(basis)\n",
        "    (rownumber,colnumber)=np.shape(matrix)\n",
        "    rowcount=0\n",
        "    earlyabort=False\n",
        "\n",
        "    #normal GE\n",
        "    for i in range(colnumber-1):\n",
        "\n",
        "        trunccol=matrix[rowcount:,i]\n",
        "        if np.any(trunccol)!=False:\n",
        "            agestart=i+1\n",
        "            ind=np.nonzero(trunccol)[0][0]       #index of first nonzero entry of truncated column\n",
        "            dum=copy(matrix[rowcount,:])\n",
        "            matrix[rowcount,:]=matrix[rowcount+ind,:]\n",
        "            matrix[rowcount+ind,:]=dum           #swap rows\n",
        "            matrix[rowcount,:]=scmult(matrix[rowcount,:],inv(matrix[rowcount,:][i]))\n",
        "\n",
        "            for j in range(rownumber):\n",
        "                if j!=rowcount:\n",
        "                    matrix[j,:]=matrix[j,:]-scmult(matrix[rowcount,:],matrix[j,i])\n",
        "            rowcount+=1\n",
        "\n",
        "    matrix=matrix[~np.all(matrix == 0, axis=1)]    #delete zero rows\n",
        "    (rownumber,colnumber)=np.shape(matrix)\n",
        "\n",
        "    #start of expanded part\n",
        "    for i in range(agestart,colnumber):\n",
        "        col=matrix[:,i]\n",
        "        indices=np.nonzero(col)[0]\n",
        "        if len(indices)>=2: # if there is more than one non-zero element in extra row\n",
        "            row1=matrix[indices[0],:]\n",
        "            row1=scmult(matrix[indices[0],:],inv(row1[i]))\n",
        "            row2=matrix[indices[1],:]\n",
        "            row2=scmult(matrix[indices[1],:],inv(row2[i]))\n",
        "            newrow=scmult((scmult(row1,alpha)+scmult(row2,beta)),lambd)-scmult(scmult(row1,alpha),lambd)-scmult(scmult(row2,beta),lambd)\n",
        "            newrow=scmult(newrow,inv(newrow[i]))\n",
        "            matrix=np.append(matrix,[newrow],axis=0)\n",
        "            rownumber+=1\n",
        "            for j in range(rownumber):\n",
        "\n",
        "                if j!=rowcount:\n",
        "                    matrix[j,:]=matrix[j,:]-scmult(matrix[-1,:],matrix[j,i])\n",
        "            rowcount+=1\n",
        "    return matrix"
      ]
    },
    {
      "cell_type": "markdown",
      "metadata": {
        "id": "r_b0peUmCtAC"
      },
      "source": [
        "## Test 0 : Subspaces"
      ]
    },
    {
      "cell_type": "code",
      "execution_count": null,
      "metadata": {
        "id": "9CVHNkQfCtAC",
        "outputId": "847b91f9-6fad-4d9e-cc1a-93fe6417da9d"
      },
      "outputs": [
        {
          "data": {
            "text/plain": [
              "array([[X + 1, 1, 2*X + 1]], dtype=object)"
            ]
          },
          "execution_count": 16,
          "metadata": {},
          "output_type": "execute_result"
        }
      ],
      "source": [
        "b=np.array([ [R[8],R[2],R[5]]\n",
        "                ])\n",
        "b"
      ]
    },
    {
      "cell_type": "code",
      "execution_count": null,
      "metadata": {
        "id": "wWoPWjBVCtAD",
        "outputId": "0db83823-8d1b-417a-9471-5377514d85fe"
      },
      "outputs": [
        {
          "data": {
            "text/plain": [
              "array([[1, 2*X + 2, 2*X]], dtype=object)"
            ]
          },
          "execution_count": 17,
          "metadata": {},
          "output_type": "execute_result"
        }
      ],
      "source": [
        "AGE(b)"
      ]
    },
    {
      "cell_type": "code",
      "execution_count": null,
      "metadata": {
        "id": "-heg2KB2CtAD",
        "outputId": "9df15b50-577c-45fc-d9aa-1a4aa73efa66"
      },
      "outputs": [
        {
          "data": {
            "text/plain": [
              "array([[1, 1, 2, X + 1, 1],\n",
              "       [0, 0, 0, 2*X + 2, 1],\n",
              "       [1, 1, 1, X + 2, 1]], dtype=object)"
            ]
          },
          "execution_count": 20,
          "metadata": {},
          "output_type": "execute_result"
        }
      ],
      "source": [
        "basis00=np.array([\n",
        "                [R[2],R[2],R[1],R[8],R[2]],\n",
        "                [R[0],R[0],R[0],R[4],R[2]],\n",
        "                [R[2],R[2],R[2],R[7],R[2]]\n",
        "                ])\n",
        "basis00"
      ]
    },
    {
      "cell_type": "code",
      "execution_count": null,
      "metadata": {
        "id": "0sYvpmtWCtAD",
        "outputId": "4029fe2d-fa41-4d13-ee7a-7a274add9d96"
      },
      "outputs": [
        {
          "data": {
            "text/plain": [
              "array([[1, 1, 0, 0, 0],\n",
              "       [0, 0, 1, 0, 0],\n",
              "       [0, 0, 0, 1, 0],\n",
              "       [0, 0, 0, 0, 1]], dtype=object)"
            ]
          },
          "execution_count": 19,
          "metadata": {},
          "output_type": "execute_result"
        }
      ],
      "source": [
        "AGE(basis00)"
      ]
    },
    {
      "cell_type": "code",
      "execution_count": null,
      "metadata": {
        "id": "OkndFGOkCtAE",
        "outputId": "67eb05d3-4b42-4314-e928-6665ddbef622"
      },
      "outputs": [
        {
          "data": {
            "text/plain": [
              "array([[2*X, X + 1, 0],\n",
              "       [0, 2*X + 1, X + 2]], dtype=object)"
            ]
          },
          "execution_count": 12,
          "metadata": {},
          "output_type": "execute_result"
        }
      ],
      "source": [
        "basis000=np.array([\n",
        "                [R[3],R[8],R[0]],\n",
        "                [R[0],R[5],R[7]]\n",
        "                ])\n",
        "basis000"
      ]
    },
    {
      "cell_type": "code",
      "execution_count": null,
      "metadata": {
        "id": "K6AulbmGCtAE",
        "outputId": "2c8e3838-855e-4c0f-f610-e58428a5e184"
      },
      "outputs": [
        {
          "data": {
            "text/plain": [
              "array([[1, 0, 0],\n",
              "       [0, 1, 0],\n",
              "       [0, 0, 1]], dtype=object)"
            ]
          },
          "execution_count": 13,
          "metadata": {},
          "output_type": "execute_result"
        }
      ],
      "source": [
        "AGE(basis000)"
      ]
    },
    {
      "cell_type": "code",
      "execution_count": null,
      "metadata": {
        "id": "UXVlkaL4CtAE",
        "outputId": "8be19cdf-65e3-43c4-db39-96efda658025"
      },
      "outputs": [
        {
          "data": {
            "text/plain": [
              "array([[2*X, X + 1, 0, 2*X + 1],\n",
              "       [2, 2*X + 1, X + 2, 0]], dtype=object)"
            ]
          },
          "execution_count": 14,
          "metadata": {},
          "output_type": "execute_result"
        }
      ],
      "source": [
        "basis0000=np.array([\n",
        "                [R[3],R[8],R[0],R[5]],\n",
        "                [R[1],R[5],R[7],R[0]]\n",
        "                ])\n",
        "basis0000"
      ]
    },
    {
      "cell_type": "code",
      "execution_count": null,
      "metadata": {
        "id": "MWtC0cNGCtAF",
        "outputId": "34c4bc20-978a-457e-ad27-78d7be03e4c4"
      },
      "outputs": [
        {
          "data": {
            "text/plain": [
              "array([[1, 0, 0, 0],\n",
              "       [0, 1, 0, 0],\n",
              "       [0, 0, 1, 0],\n",
              "       [0, 0, 0, 1]], dtype=object)"
            ]
          },
          "execution_count": 15,
          "metadata": {},
          "output_type": "execute_result"
        }
      ],
      "source": [
        "AGE(basis0000)"
      ]
    },
    {
      "cell_type": "code",
      "execution_count": null,
      "metadata": {
        "id": "0fsFMGt1CtAG",
        "outputId": "a230c361-e1dc-46b7-cf91-670441cc50df"
      },
      "outputs": [
        {
          "data": {
            "text/plain": [
              "array([[2, 2, 0, 0, 2],\n",
              "       [0, 0, 2, 2, 0],\n",
              "       [2, 0, 0, 2, 0]], dtype=object)"
            ]
          },
          "execution_count": 16,
          "metadata": {},
          "output_type": "execute_result"
        }
      ],
      "source": [
        "basis00000=np.array([\n",
        "                [R[1],R[1],R[0],R[0],R[1]],\n",
        "                [R[0],R[0],R[1],R[1],R[0]],\n",
        "                [R[1],R[0],R[0],R[1],R[0]]\n",
        "                ])\n",
        "basis00000"
      ]
    },
    {
      "cell_type": "code",
      "execution_count": null,
      "metadata": {
        "id": "xF_KC6I1CtAG"
      },
      "outputs": [],
      "source": []
    },
    {
      "cell_type": "code",
      "execution_count": null,
      "metadata": {
        "id": "kzC4SEx2CtAG",
        "outputId": "162df903-3298-4eda-a2d2-d46a90818cf4"
      },
      "outputs": [
        {
          "data": {
            "text/plain": [
              "array([[1, 0, 0, 0, 0],\n",
              "       [0, 1, 0, 0, 1],\n",
              "       [0, 0, 1, 0, 0],\n",
              "       [0, 0, 0, 1, 0]], dtype=object)"
            ]
          },
          "execution_count": 17,
          "metadata": {},
          "output_type": "execute_result"
        }
      ],
      "source": [
        "AGE(basis00000)"
      ]
    },
    {
      "cell_type": "code",
      "execution_count": null,
      "metadata": {
        "id": "v07R-gDlCtAG",
        "outputId": "7f8e4452-f481-4d09-f32d-9716fffbf348"
      },
      "outputs": [
        {
          "data": {
            "text/plain": [
              "array([[2, 2, 2, 0, 0],\n",
              "       [0, 0, 0, 2, 0],\n",
              "       [2, 0, 0, 0, 2]], dtype=object)"
            ]
          },
          "execution_count": 18,
          "metadata": {},
          "output_type": "execute_result"
        }
      ],
      "source": [
        "basis0000000=np.array([\n",
        "                [R[1],R[1],R[1],R[0],R[0]],\n",
        "                [R[0],R[0],R[0],R[1],R[0]],\n",
        "                [R[1],R[0],R[0],R[0],R[1]]\n",
        "                ])\n",
        "basis0000000"
      ]
    },
    {
      "cell_type": "code",
      "execution_count": null,
      "metadata": {
        "id": "3zAFt9wOCtAG",
        "outputId": "fbd67bbd-5f7c-413c-f48d-e7db981bedda"
      },
      "outputs": [
        {
          "data": {
            "text/plain": [
              "array([[1, 0, 0, 0, 0],\n",
              "       [0, 1, 1, 0, 0],\n",
              "       [0, 0, 0, 1, 0],\n",
              "       [0, 0, 0, 0, 1]], dtype=object)"
            ]
          },
          "execution_count": 19,
          "metadata": {},
          "output_type": "execute_result"
        }
      ],
      "source": [
        "AGE(basis0000000)"
      ]
    },
    {
      "cell_type": "code",
      "execution_count": null,
      "metadata": {
        "id": "Ea8yMFGTCtAH",
        "outputId": "b804ca0a-b643-4a3a-e642-50038029b2cd"
      },
      "outputs": [
        {
          "data": {
            "text/plain": [
              "array([[2, 1, 2*X, 0, 0],\n",
              "       [0, 0, 0, 2, 0],\n",
              "       [2, 0, 0, 0, 2]], dtype=object)"
            ]
          },
          "execution_count": 20,
          "metadata": {},
          "output_type": "execute_result"
        }
      ],
      "source": [
        "basis00000000=np.array([\n",
        "                [R[1],R[2],R[3],R[0],R[0]],\n",
        "                [R[0],R[0],R[0],R[1],R[0]],\n",
        "                [R[1],R[0],R[0],R[0],R[1]]\n",
        "                ])\n",
        "basis00000000"
      ]
    },
    {
      "cell_type": "code",
      "execution_count": null,
      "metadata": {
        "id": "wgOQ7eC3CtAH",
        "outputId": "58ef21ca-a3cc-4aaa-cce2-76b59643ed00"
      },
      "outputs": [
        {
          "data": {
            "text/plain": [
              "array([[1, 0, 0, 0, 0],\n",
              "       [0, 1, 2*X, 0, 0],\n",
              "       [0, 0, 0, 1, 0],\n",
              "       [0, 0, 0, 0, 1]], dtype=object)"
            ]
          },
          "execution_count": 21,
          "metadata": {},
          "output_type": "execute_result"
        }
      ],
      "source": [
        "AGE(basis00000000)"
      ]
    },
    {
      "cell_type": "code",
      "execution_count": null,
      "metadata": {
        "id": "RMg9cy7lCtAH",
        "outputId": "bbfcd649-7d53-48d8-d7a4-2cdde34b0882"
      },
      "outputs": [
        {
          "data": {
            "text/plain": [
              "array([[2, 0, 2],\n",
              "       [1, 0, 0],\n",
              "       [2*X, 0, 0],\n",
              "       [0, 2, 0],\n",
              "       [0, 0, 2]], dtype=object)"
            ]
          },
          "execution_count": 22,
          "metadata": {},
          "output_type": "execute_result"
        }
      ],
      "source": [
        "basis0000000000=np.array([\n",
        "                [R[1],R[0],R[1]],\n",
        "                [R[2],R[0],R[0]],\n",
        "                [R[3],R[0],R[0]],\n",
        "                [R[0],R[1],R[0]],\n",
        "                [R[0],R[0],R[1]]\n",
        "                ])\n",
        "basis0000000000"
      ]
    },
    {
      "cell_type": "code",
      "execution_count": null,
      "metadata": {
        "id": "vj2qQyaPCtAH",
        "outputId": "3b4812cc-8fa7-43e9-fcc6-25090e730daf"
      },
      "outputs": [
        {
          "data": {
            "text/plain": [
              "array([[1, 0, 0],\n",
              "       [0, 1, 0],\n",
              "       [0, 0, X],\n",
              "       [0, 0, 0],\n",
              "       [0, 0, 0],\n",
              "       [0, 0, 0]], dtype=object)"
            ]
          },
          "execution_count": 23,
          "metadata": {},
          "output_type": "execute_result"
        }
      ],
      "source": [
        "AGE(basis0000000000)"
      ]
    },
    {
      "cell_type": "code",
      "execution_count": null,
      "metadata": {
        "id": "j9RUflvECtAH",
        "outputId": "c6dc11d0-b9af-4a13-e430-388a2eddf51e"
      },
      "outputs": [
        {
          "data": {
            "text/plain": [
              "array([[2, 2, 0, 0],\n",
              "       [2, 0, 2, 0],\n",
              "       [2, 0, 0, 2]], dtype=object)"
            ]
          },
          "execution_count": 24,
          "metadata": {},
          "output_type": "execute_result"
        }
      ],
      "source": [
        "basis01=np.array([\n",
        "                [R[1],R[1],R[0],R[0]],\n",
        "                [R[1],R[0],R[1],R[0]],\n",
        "                [R[1],R[0],R[0],R[1]]\n",
        "                ])\n",
        "basis01"
      ]
    },
    {
      "cell_type": "code",
      "execution_count": null,
      "metadata": {
        "id": "qAR_jk5nCtAI"
      },
      "outputs": [],
      "source": []
    },
    {
      "cell_type": "code",
      "execution_count": null,
      "metadata": {
        "id": "0UuJF5zOCtAI",
        "outputId": "b01e6275-c98f-44b1-c427-426396b937d3"
      },
      "outputs": [
        {
          "data": {
            "text/plain": [
              "array([[1, 0, 0, 0],\n",
              "       [0, 1, 0, 0],\n",
              "       [0, 0, 1, 0],\n",
              "       [0, 0, 0, 1]], dtype=object)"
            ]
          },
          "execution_count": 25,
          "metadata": {},
          "output_type": "execute_result"
        }
      ],
      "source": [
        "AGE(basis01)"
      ]
    },
    {
      "cell_type": "code",
      "execution_count": null,
      "metadata": {
        "id": "cgWXjfWsCtAI",
        "outputId": "c9b2575f-0ab9-42f6-bc6d-67ba980f8079"
      },
      "outputs": [
        {
          "data": {
            "text/plain": [
              "array([[2*X, 2, 2, 0, 0],\n",
              "       [1, 2*X + 2, 2, 2, 0],\n",
              "       [2, 0, 2, 2, 2*X]], dtype=object)"
            ]
          },
          "execution_count": 26,
          "metadata": {},
          "output_type": "execute_result"
        }
      ],
      "source": [
        "basis02=np.array([\n",
        "                [R[3],R[1],R[1],R[0],R[0]],\n",
        "                [R[2],R[4],R[1],R[1],R[0]],  [R[1],R[0],R[1],R[1],R[3]]\n",
        "\n",
        "                ])\n",
        "basis02"
      ]
    },
    {
      "cell_type": "code",
      "execution_count": null,
      "metadata": {
        "id": "M9ySaK5gCtAI",
        "outputId": "a46ec35c-04fe-4c4f-9262-185a9bddf826"
      },
      "outputs": [
        {
          "data": {
            "text/plain": [
              "array([[1, 0, 0, 0, 0],\n",
              "       [0, 1, 0, 0, 0],\n",
              "       [0, 0, 1, 0, 0],\n",
              "       [0, 0, 0, 1, 0],\n",
              "       [0, 0, 0, 0, 1]], dtype=object)"
            ]
          },
          "execution_count": 27,
          "metadata": {},
          "output_type": "execute_result"
        }
      ],
      "source": [
        "AGE(basis02)"
      ]
    },
    {
      "cell_type": "code",
      "execution_count": null,
      "metadata": {
        "id": "mpNf8JeUCtAI",
        "outputId": "a132a63d-a89a-45d9-ef22-47c4a4f9f749"
      },
      "outputs": [
        {
          "data": {
            "text/plain": [
              "array([[0, 2, 2, 0, 0],\n",
              "       [0, 2*X + 2, 1, 0, 2*X + 2],\n",
              "       [2, 2*X + 2, 2, 0, 2*X]], dtype=object)"
            ]
          },
          "execution_count": 28,
          "metadata": {},
          "output_type": "execute_result"
        }
      ],
      "source": [
        "basis03=np.array([\n",
        "                [R[0],R[1],R[1],R[0],R[0]],\n",
        "                [R[0],R[4],R[2],R[0],R[4]],  [R[1],R[4],R[1],R[0],R[3]]\n",
        "\n",
        "                ])\n",
        "basis03"
      ]
    },
    {
      "cell_type": "code",
      "execution_count": null,
      "metadata": {
        "id": "XpMwzNmICtAJ",
        "outputId": "2d79c789-fa42-4751-8d5d-4df762763c62"
      },
      "outputs": [
        {
          "data": {
            "text/plain": [
              "array([[1, 0, 0, 0, 0],\n",
              "       [0, 1, 0, 0, 0],\n",
              "       [0, 0, 1, 0, 0],\n",
              "       [0, 0, 0, 0, 1]], dtype=object)"
            ]
          },
          "execution_count": 25,
          "metadata": {},
          "output_type": "execute_result"
        }
      ],
      "source": [
        "AGE(basis03)"
      ]
    },
    {
      "cell_type": "code",
      "execution_count": null,
      "metadata": {
        "id": "nCbHZB3iCtAJ",
        "outputId": "513c6baa-d33e-46fd-8d5f-e08deae712f0"
      },
      "outputs": [
        {
          "data": {
            "text/plain": [
              "array([[1, X, 1, 2*X + 2, 1],\n",
              "       [X, 2*X, X, 0, X],\n",
              "       [1, X + 1, 1, 0, 2]], dtype=object)"
            ]
          },
          "execution_count": 21,
          "metadata": {},
          "output_type": "execute_result"
        }
      ],
      "source": [
        "basistest=np.array([\n",
        "                [R[1],R[3],R[1],R[8],R[1]],\n",
        "                [R[3],R[6],R[3],R[0],R[3]],\n",
        "                [R[1],R[4],R[1],R[0],R[2]]\n",
        "                ])\n",
        "basistest"
      ]
    }
  ],
  "metadata": {
    "kernelspec": {
      "display_name": "SageMath 8.1",
      "language": "",
      "name": "sagemath"
    },
    "language_info": {
      "codemirror_mode": {
        "name": "ipython",
        "version": 2
      },
      "file_extension": ".py",
      "mimetype": "text/x-python",
      "name": "python",
      "nbconvert_exporter": "python",
      "pygments_lexer": "ipython2",
      "version": "2.7.17"
    },
    "colab": {
      "provenance": []
    }
  },
  "nbformat": 4,
  "nbformat_minor": 0
}